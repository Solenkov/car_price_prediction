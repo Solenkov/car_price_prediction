{
 "cells": [
  {
   "cell_type": "code",
   "execution_count": 17,
   "metadata": {},
   "outputs": [],
   "source": [
    "import numpy as np \n",
    "import pandas as pd\n",
    "\n",
    "import sys\n",
    "import re\n",
    "from datetime import date\n",
    "\n",
    "from matplotlib import pyplot as plt\n",
    "import seaborn as sns\n",
    "\n",
    "from sklearn.preprocessing import OneHotEncoder, MinMaxScaler\n",
    "from sklearn.metrics import mean_squared_error  as mse\n",
    "from sklearn.metrics import mean_absolute_error  as mae\n",
    "from sklearn.metrics import mean_absolute_percentage_error  as mape\n",
    "from sklearn.metrics import r2_score\n",
    "\n",
    "from sklearn.model_selection import train_test_split, KFold\n",
    "from tqdm.notebook import tqdm\n",
    "\n",
    "from sklearn.model_selection import RandomizedSearchCV\n",
    "from sklearn.ensemble import RandomForestRegressor\n",
    "from sklearn.ensemble import BaggingRegressor\n",
    "from sklearn.tree import ExtraTreeRegressor\n",
    "from sklearn.linear_model import LinearRegression\n",
    "from catboost import CatBoostRegressor\n",
    "\n",
    "import requests\n",
    "from bs4 import BeautifulSoup\n",
    "import csv\n",
    "\n",
    "import warnings\n",
    "warnings.filterwarnings('ignore')\n",
    "\n",
    "pd.set_option('display.max_rows', 50) \n",
    "pd.set_option('display.max_columns', 50)"
   ]
  },
  {
   "cell_type": "code",
   "execution_count": 18,
   "metadata": {},
   "outputs": [],
   "source": [
    "VERSION    = 11\n",
    "\n",
    "VAL_SIZE   = 0.33   # 33%\n",
    "N_FOLDS    = 5\n",
    "RANDOM_SEED = 42\n",
    "\n",
    "# CATBOOST\n",
    "ITERATIONS = 2000\n",
    "LR         = 0.1\n",
    "\n",
    "DIR_TRAIN  = '../input/parced/'\n",
    "DIR_TEST   = '../input/sf-dst-car-price/'"
   ]
  },
  {
   "cell_type": "markdown",
   "metadata": {},
   "source": [
    "#### 1. Парсинг"
   ]
  },
  {
   "cell_type": "code",
   "execution_count": 19,
   "metadata": {},
   "outputs": [],
   "source": [
    "# Список моделей bmw\n",
    "url_models_list=[\n",
    "'https://auto.ru/moskva/cars/bmw/02/used/',\n",
    "'https://auto.ru/moskva/cars/bmw/1er/used/',\n",
    "'https://auto.ru/moskva/cars/bmw/2er/used/',       \n",
    "'https://auto.ru/moskva/cars/bmw/2activetourer/used/',\n",
    "'https://auto.ru/moskva/cars/bmw/2grandtourer/used/',\n",
    "'https://auto.ru/moskva/cars/bmw/2000_c_cs/used/',\n",
    "'https://auto.ru/moskva/cars/bmw/3er/used/',\n",
    "'https://auto.ru/moskva/cars/bmw/321/used/',\n",
    "'https://auto.ru/moskva/cars/bmw/326/used/',\n",
    "'https://auto.ru/moskva/cars/bmw/340/used/',\n",
    "'https://auto.ru/moskva/cars/bmw/4/used/',\n",
    "'https://auto.ru/moskva/cars/bmw/5er/used/',\n",
    "'https://auto.ru/moskva/cars/bmw/6er/used/',\n",
    "'https://auto.ru/moskva/cars/bmw/7er/used/',\n",
    "'https://auto.ru/moskva/cars/bmw/8er/used/',\n",
    "'https://auto.ru/moskva/cars/bmw/e3/used/',\n",
    "'https://auto.ru/moskva/cars/bmw/i3/used/',\n",
    "'https://auto.ru/moskva/cars/bmw/i8/used/',\n",
    "'https://auto.ru/moskva/cars/bmw/m2/used/',\n",
    "'https://auto.ru/moskva/cars/bmw/m3/used/',\n",
    "'https://auto.ru/moskva/cars/bmw/m4/used/',\n",
    "'https://auto.ru/moskva/cars/bmw/m5/used/',\n",
    "'https://auto.ru/moskva/cars/bmw/m6/used/',\n",
    "'https://auto.ru/moskva/cars/bmw/x1/used/',\n",
    "'https://auto.ru/moskva/cars/bmw/x2/used/',\n",
    "'https://auto.ru/moskva/cars/bmw/x3/used/',\n",
    "'https://auto.ru/moskva/cars/bmw/x3_m/used/',\n",
    "'https://auto.ru/moskva/cars/bmw/x4/used/',\n",
    "'https://auto.ru/moskva/cars/bmw/x4_m/used/',\n",
    "'https://auto.ru/moskva/cars/bmw/x5/used/',\n",
    "'https://auto.ru/moskva/cars/bmw/x5_m/used/',\n",
    "'https://auto.ru/moskva/cars/bmw/x6/used/',\n",
    "'https://auto.ru/moskva/cars/bmw/x6_m/used/',\n",
    "'https://auto.ru/moskva/cars/bmw/x7/used/',\n",
    "'https://auto.ru/moskva/cars/bmw/z1/used/',\n",
    "'https://auto.ru/moskva/cars/bmw/z3/used/',\n",
    "'https://auto.ru/moskva/cars/bmw/z4/used/',\n",
    "'https://auto.ru/moskva/cars/bmw/z8/used/']"
   ]
  },
  {
   "cell_type": "code",
   "execution_count": 20,
   "metadata": {},
   "outputs": [
    {
     "data": {
      "text/plain": [
       "\"\\nfor i in range(len(dfForTraining),len(all_url_bmv)):\\n    if i%100==0:\\n        print(i)    \\n    dfForTraining = dfForTraining.append(parceFeatures(all_url_bmv[i]), ignore_index=True)\\n    if i %500 ==0:\\n        dfForTraining.to_csv(('parced_features part'+str(i)+'.csv'),encoding='utf-8-sig', index=False)\\n\\ndfForTraining = pd.DataFrame(columns=['bodyType','color','fuelType','productionDate',\\n                                      'vehicleTransmission','engineDisplacement','enginePower',\\n                                      'mileage','Привод','Руль','Состояние','Владельцы',\\n                                      'ПТС','Таможня','Владение','Price'])\\n\\n\\n# сохраним полученный итоговый результат\\ndfForTraining.to_csv('final_parced_features.csv',encoding='utf-8-sig', index=False)\\n\""
      ]
     },
     "execution_count": 20,
     "metadata": {},
     "output_type": "execute_result"
    }
   ],
   "source": [
    "\"\"\"\n",
    "Реально здесь парсить не будем, процесс долгий\n",
    "\n",
    "# найдем все страницы с авто - БМВ\n",
    "all_pages_bmv = []\n",
    "for model in url_models_list:\n",
    "    for page in range(1,totalPages(model)):\n",
    "        adress_i = model + \"?page=\" + str(page) + '&output_type=list'\n",
    "        all_pages_bmv.append(adress_i)\n",
    "\n",
    "\n",
    "# создадим список со всеми ссылками на каждую авто БМВ\n",
    "all_url_bmv = []\n",
    "for page in all_pages_bmv:\n",
    "    r = requests.get(page)\n",
    "    soup = BeautifulSoup(r.text, 'lxml')\n",
    "    urls_car = soup.find_all('a', class_ = 'Link ListingItemTitle-module__link')\n",
    "    for url_car in urls_car:\n",
    "        all_url_bmv.append(url_car.get('href'))\n",
    "\"\"\"\n",
    "\n",
    "def parceFeatures(url):\n",
    "    # достаем признаки\n",
    "    r = requests.get(url)\n",
    "    r.encoding = 'utf-8' \n",
    "    soup = BeautifulSoup(r.text, 'lxml')\n",
    "\n",
    "    # достаем 'productionDate', делаем, через try/txcept, га случай, если признака нет\n",
    "    try:\n",
    "        productionDate = int(soup.find('ul', class_= \"CardInfo\")\\\n",
    "                         .find('li', class_='CardInfo__row CardInfo__row_year')\\\n",
    "                         .find_all('span', class_=\"CardInfo__cell\")[-1].text)\n",
    "    except:\n",
    "        productionDate = \"\"\n",
    "\n",
    "    # достаем 'mileage'\n",
    "    try:\n",
    "        mileage = soup.find('ul', class_= \"CardInfo\")\\\n",
    "                         .find('li', class_='CardInfo__row CardInfo__row_kmAge')\\\n",
    "                         .find_all('span', class_=\"CardInfo__cell\")[-1].text\n",
    "        mileage = int(\"\".join(mileage.split('\\xa0')[:-1:]))\n",
    "    except:\n",
    "        mileage = \"\"\n",
    "\n",
    "\n",
    "    # достаем bodyType\n",
    "    try:\n",
    "        bodyType = soup.find('ul', class_= \"CardInfo\")\\\n",
    "                         .find('li', class_='CardInfo__row CardInfo__row_bodytype')\\\n",
    "                         .find_all('span', class_=\"CardInfo__cell\")[-1].text\n",
    "    except:\n",
    "        bodyType = \"\"\n",
    "\n",
    "    # достаем color\n",
    "    try:\n",
    "        color = soup.find('ul', class_= \"CardInfo\")\\\n",
    "                         .find('li', class_='CardInfo__row CardInfo__row_color')\\\n",
    "                         .find_all('span', class_=\"CardInfo__cell\")[-1].text\n",
    "    except:\n",
    "        color = \"\"\n",
    "\n",
    "    # достаем engine и характеристики 'engineDisplacement', \n",
    "    try: \n",
    "        engine = soup.find('ul', class_= \"CardInfo\")\\\n",
    "                         .find('li', class_='CardInfo__row CardInfo__row_engine')\\\n",
    "                         .find_all('span', class_=\"CardInfo__cell\")[-1].text\n",
    "        engine = engine.split('/')\n",
    "\n",
    "        engineDisplacement = float(engine[0].split(' ')[0])\n",
    "        enginePower = int(engine[1].split('\\xa0')[0])\n",
    "        fuelType = engine[2].strip()\n",
    "    except:\n",
    "        engineDisplacement = \"\"\n",
    "        enginePower = \"\"\n",
    "        fuelType = \"\"\n",
    "\n",
    "    # достаем vehicleTransmission\n",
    "    try:\n",
    "        vehicleTransmission = soup.find('ul', class_= \"CardInfo\")\\\n",
    "                         .find('li', class_='CardInfo__row CardInfo__row_transmission')\\\n",
    "                         .find_all('span', class_=\"CardInfo__cell\")[-1].text\n",
    "    except:\n",
    "        vehicleTransmission = \"\"\n",
    "\n",
    "    # достаем Привод\n",
    "    try:\n",
    "        privod = soup.find('ul', class_= \"CardInfo\")\\\n",
    "                         .find('li', class_='CardInfo__row CardInfo__row_drive')\\\n",
    "                         .find_all('span', class_=\"CardInfo__cell\")[-1].text\n",
    "    except:\n",
    "        privod = \"\"\n",
    "\n",
    "    # достаем руль\n",
    "    try:\n",
    "        wheel = soup.find('ul', class_= \"CardInfo\")\\\n",
    "                         .find('li', class_='CardInfo__row CardInfo__row_wheel')\\\n",
    "                         .find_all('span', class_=\"CardInfo__cell\")[-1].text\n",
    "    except:\n",
    "        wheel = \"\"\n",
    "\n",
    "    # достаем состояние\n",
    "    try:\n",
    "        state = soup.find('ul', class_= \"CardInfo\")\\\n",
    "                         .find('li', class_='CardInfo__row CardInfo__row_state')\\\n",
    "                         .find_all('span', class_=\"CardInfo__cell\")[-1].text\n",
    "    except:\n",
    "        state = \"\"\n",
    "\n",
    "    # достаем Владельцев\n",
    "    try:\n",
    "        ownersCount = soup.find('ul', class_= \"CardInfo\")\\\n",
    "                         .find('li', class_='CardInfo__row CardInfo__row_ownersCount')\\\n",
    "                         .find_all('span', class_=\"CardInfo__cell\")[-1].text\n",
    "    except:\n",
    "        ownersCount = \"\"\n",
    "\n",
    "    # достаем ПТС\n",
    "    try:\n",
    "        pts = soup.find('ul', class_= \"CardInfo\")\\\n",
    "                         .find('li', class_='CardInfo__row CardInfo__row_pts')\\\n",
    "                         .find_all('span', class_=\"CardInfo__cell\")[-1].text\n",
    "    except:\n",
    "        pts = \"\"\n",
    "\n",
    "    # достаем Таможня\n",
    "    try:\n",
    "        customs = soup.find('ul', class_= \"CardInfo\")\\\n",
    "                         .find('li', class_='CardInfo__row CardInfo__row_customs')\\\n",
    "                         .find_all('span', class_=\"CardInfo__cell\")[-1].text\n",
    "    except:\n",
    "        customs = \"\"\n",
    "\n",
    "    # достаем Владение\n",
    "    try:\n",
    "        owningTime = soup.find('ul', class_= \"CardInfo\")\\\n",
    "                                 .find('li', class_='CardInfo__row CardInfo__row_owningTime')\\\n",
    "                                 .find_all('span', class_=\"CardInfo__cell\")[-1].text\n",
    "    except:\n",
    "        owningTime = \"\"\n",
    "\n",
    "    # достаем цену\n",
    "    try:\n",
    "        price = soup.find('div', class_= \"PriceUsedOffer-module__container\")\\\n",
    "                         .find('span', class_=\"OfferPriceCaption__price\").text.split('\\xa0')\n",
    "        price = int(\"\".join(price[:-1:]))\n",
    "    except:\n",
    "        price = \"\"\n",
    "    \n",
    "    dfForFill = pd.DataFrame(index=range(1),columns=['bodyType','color','fuelType','productionDate',\n",
    "                                                     'vehicleTransmission','engineDisplacement','enginePower',\n",
    "                                                     'mileage','Привод','Руль','Состояние','Владельцы',\n",
    "                                                     'ПТС','Таможня','Владение','Price'])\n",
    "    dfForFill[['bodyType','color','fuelType','productionDate','vehicleTransmission',\n",
    "           'engineDisplacement','enginePower','mileage','Привод','Руль','Состояние', 'Владельцы',\n",
    "           'ПТС','Таможня','Владение','Price']] = \\\n",
    "            bodyType, color, fuelType, productionDate, vehicleTransmission,\\\n",
    "            engineDisplacement, enginePower, mileage, privod, wheel, state, ownersCount,\\\n",
    "            pts, customs, owningTime, price\n",
    "    \n",
    "    return dfForFill\n",
    "\n",
    "\"\"\"\n",
    "for i in range(len(dfForTraining),len(all_url_bmv)):\n",
    "    if i%100==0:\n",
    "        print(i)    \n",
    "    dfForTraining = dfForTraining.append(parceFeatures(all_url_bmv[i]), ignore_index=True)\n",
    "    if i %500 ==0:\n",
    "        dfForTraining.to_csv(('parced_features part'+str(i)+'.csv'),encoding='utf-8-sig', index=False)\n",
    "\n",
    "dfForTraining = pd.DataFrame(columns=['bodyType','color','fuelType','productionDate',\n",
    "                                      'vehicleTransmission','engineDisplacement','enginePower',\n",
    "                                      'mileage','Привод','Руль','Состояние','Владельцы',\n",
    "                                      'ПТС','Таможня','Владение','Price'])\n",
    "\n",
    "\n",
    "# сохраним полученный итоговый результат\n",
    "dfForTraining.to_csv('final_parced_features.csv',encoding='utf-8-sig', index=False)\n",
    "\"\"\""
   ]
  },
  {
   "cell_type": "code",
   "execution_count": 104,
   "metadata": {},
   "outputs": [
    {
     "data": {
      "text/html": [
       "<div>\n",
       "<style scoped>\n",
       "    .dataframe tbody tr th:only-of-type {\n",
       "        vertical-align: middle;\n",
       "    }\n",
       "\n",
       "    .dataframe tbody tr th {\n",
       "        vertical-align: top;\n",
       "    }\n",
       "\n",
       "    .dataframe thead th {\n",
       "        text-align: right;\n",
       "    }\n",
       "</style>\n",
       "<table border=\"1\" class=\"dataframe\">\n",
       "  <thead>\n",
       "    <tr style=\"text-align: right;\">\n",
       "      <th></th>\n",
       "      <th>bodyType</th>\n",
       "      <th>color</th>\n",
       "      <th>fuelType</th>\n",
       "      <th>modelDate</th>\n",
       "      <th>numberOfDoors</th>\n",
       "      <th>productionDate</th>\n",
       "      <th>enginePower</th>\n",
       "      <th>mileage</th>\n",
       "      <th>Комплектация</th>\n",
       "      <th>Привод</th>\n",
       "      <th>Руль</th>\n",
       "      <th>Владельцы</th>\n",
       "      <th>ПТС</th>\n",
       "      <th>Таможня</th>\n",
       "      <th>Владение</th>\n",
       "      <th>Price</th>\n",
       "      <th>vehicleTransmission</th>\n",
       "    </tr>\n",
       "  </thead>\n",
       "  <tbody>\n",
       "    <tr>\n",
       "      <th>4760</th>\n",
       "      <td>Хэтчбек 5 дв.</td>\n",
       "      <td>040001</td>\n",
       "      <td>бензин</td>\n",
       "      <td>2007.0</td>\n",
       "      <td>5.0</td>\n",
       "      <td>2008</td>\n",
       "      <td>115.0</td>\n",
       "      <td>115000</td>\n",
       "      <td>{'id': '0'}</td>\n",
       "      <td>задний</td>\n",
       "      <td>LEFT</td>\n",
       "      <td>2.0</td>\n",
       "      <td>ORIGINAL</td>\n",
       "      <td>True</td>\n",
       "      <td>NaN</td>\n",
       "      <td>436000</td>\n",
       "      <td>автоматическая</td>\n",
       "    </tr>\n",
       "    <tr>\n",
       "      <th>4761</th>\n",
       "      <td>Хэтчбек 5 дв.</td>\n",
       "      <td>040001</td>\n",
       "      <td>бензин</td>\n",
       "      <td>2007.0</td>\n",
       "      <td>5.0</td>\n",
       "      <td>2011</td>\n",
       "      <td>115.0</td>\n",
       "      <td>39728</td>\n",
       "      <td>{'id': '2430196', 'name': '116', 'available_op...</td>\n",
       "      <td>задний</td>\n",
       "      <td>LEFT</td>\n",
       "      <td>1.0</td>\n",
       "      <td>ORIGINAL</td>\n",
       "      <td>True</td>\n",
       "      <td>{'year': 2011, 'month': 4}</td>\n",
       "      <td>595000</td>\n",
       "      <td>автоматическая</td>\n",
       "    </tr>\n",
       "  </tbody>\n",
       "</table>\n",
       "</div>"
      ],
      "text/plain": [
       "           bodyType   color fuelType  modelDate  numberOfDoors  \\\n",
       "4760  Хэтчбек 5 дв.  040001   бензин     2007.0            5.0   \n",
       "4761  Хэтчбек 5 дв.  040001   бензин     2007.0            5.0   \n",
       "\n",
       "      productionDate  enginePower  mileage  \\\n",
       "4760            2008        115.0   115000   \n",
       "4761            2011        115.0    39728   \n",
       "\n",
       "                                           Комплектация  Привод  Руль  \\\n",
       "4760                                        {'id': '0'}  задний  LEFT   \n",
       "4761  {'id': '2430196', 'name': '116', 'available_op...  задний  LEFT   \n",
       "\n",
       "      Владельцы       ПТС  Таможня                    Владение   Price  \\\n",
       "4760        2.0  ORIGINAL     True                         NaN  436000   \n",
       "4761        1.0  ORIGINAL     True  {'year': 2011, 'month': 4}  595000   \n",
       "\n",
       "     vehicleTransmission  \n",
       "4760      автоматическая  \n",
       "4761      автоматическая  "
      ]
     },
     "execution_count": 104,
     "metadata": {},
     "output_type": "execute_result"
    }
   ],
   "source": [
    "#train = pd.read_csv(r'final_parced_features.csv') # мой подготовленный датасет для обучения модели\n",
    "test = pd.read_csv(r'test.csv')\n",
    "sample_submission = pd.read_csv(r'sample_submission.csv')\n",
    "\n",
    "\n",
    "train = pd.read_csv(r'new_data_99_06_03_13_04.csv')\n",
    "train = train[train['brand'] == 'BMW']\n",
    "\n",
    "\n",
    "transmission = {\n",
    "    'AUTOMATIC' : 'автоматическая', \n",
    "    'MECHANICAL' : 'механическая',\n",
    "    'ROBOT' : 'роботизированная'\n",
    "    }\n",
    "train['vehicleTransmission'] = train['vehicleConfiguration'].apply(lambda x: transmission[x])\n",
    "\n",
    "\n",
    "train.drop(['Unnamed: 0', 'brand', 'name', 'vehicleConfiguration', 'description', 'engineDisplacement'], axis=1, inplace=True)\n",
    "\n",
    "train.head(2)\n",
    "# color  modelDate numberOfDoors"
   ]
  },
  {
   "cell_type": "code",
   "execution_count": 105,
   "metadata": {},
   "outputs": [
    {
     "data": {
      "text/html": [
       "<div>\n",
       "<style scoped>\n",
       "    .dataframe tbody tr th:only-of-type {\n",
       "        vertical-align: middle;\n",
       "    }\n",
       "\n",
       "    .dataframe tbody tr th {\n",
       "        vertical-align: top;\n",
       "    }\n",
       "\n",
       "    .dataframe thead th {\n",
       "        text-align: right;\n",
       "    }\n",
       "</style>\n",
       "<table border=\"1\" class=\"dataframe\">\n",
       "  <thead>\n",
       "    <tr style=\"text-align: right;\">\n",
       "      <th></th>\n",
       "      <th>bodyType</th>\n",
       "      <th>color</th>\n",
       "      <th>fuelType</th>\n",
       "      <th>modelDate</th>\n",
       "      <th>numberOfDoors</th>\n",
       "      <th>productionDate</th>\n",
       "      <th>enginePower</th>\n",
       "      <th>mileage</th>\n",
       "      <th>Привод</th>\n",
       "      <th>Владельцы</th>\n",
       "      <th>ПТС</th>\n",
       "      <th>Price</th>\n",
       "      <th>vehicleTransmission</th>\n",
       "      <th>id</th>\n",
       "    </tr>\n",
       "  </thead>\n",
       "  <tbody>\n",
       "    <tr>\n",
       "      <th>9519</th>\n",
       "      <td>внедорожник 5 дв.</td>\n",
       "      <td>синий</td>\n",
       "      <td>бензин</td>\n",
       "      <td>2012.0</td>\n",
       "      <td>5.0</td>\n",
       "      <td>2014.0</td>\n",
       "      <td>184.0</td>\n",
       "      <td>120000.0</td>\n",
       "      <td>полный</td>\n",
       "      <td>3.0</td>\n",
       "      <td>Оригинал</td>\n",
       "      <td>13.845069</td>\n",
       "      <td>автоматическая</td>\n",
       "      <td>NaN</td>\n",
       "    </tr>\n",
       "    <tr>\n",
       "      <th>75876</th>\n",
       "      <td>внедорожник 5 дв.</td>\n",
       "      <td>синий</td>\n",
       "      <td>бензин</td>\n",
       "      <td>2014.0</td>\n",
       "      <td>5.0</td>\n",
       "      <td>2016.0</td>\n",
       "      <td>245.0</td>\n",
       "      <td>68637.0</td>\n",
       "      <td>полный</td>\n",
       "      <td>1.0</td>\n",
       "      <td>Оригинал</td>\n",
       "      <td>14.454729</td>\n",
       "      <td>автоматическая</td>\n",
       "      <td>NaN</td>\n",
       "    </tr>\n",
       "  </tbody>\n",
       "</table>\n",
       "</div>"
      ],
      "text/plain": [
       "                bodyType  color fuelType  modelDate  numberOfDoors  \\\n",
       "9519   внедорожник 5 дв.  синий   бензин     2012.0            5.0   \n",
       "75876  внедорожник 5 дв.  синий   бензин     2014.0            5.0   \n",
       "\n",
       "       productionDate  enginePower   mileage  Привод  Владельцы       ПТС  \\\n",
       "9519           2014.0        184.0  120000.0  полный        3.0  Оригинал   \n",
       "75876          2016.0        245.0   68637.0  полный        1.0  Оригинал   \n",
       "\n",
       "           Price vehicleTransmission  id  \n",
       "9519   13.845069      автоматическая NaN  \n",
       "75876  14.454729      автоматическая NaN  "
      ]
     },
     "execution_count": 105,
     "metadata": {},
     "output_type": "execute_result"
    }
   ],
   "source": [
    "# для дальнейшей обработки соединим train test\n",
    "train['id'] = np.nan\n",
    "# уберем лишние колонки\n",
    "for i in test.columns: \n",
    "    if i not in train.columns:\n",
    "        test.drop([i], axis=1, inplace=True)\n",
    "\n",
    "train = train[train['Price'].notna()] # уберем строки, где нет цен\n",
    "data = pd.concat([train, test])\n",
    "\n",
    "# preprocessing\n",
    "data['fuelType'] = data['fuelType'].apply(lambda x: str(x).lower())\n",
    "data['fuelType'] = data['fuelType'].apply(lambda x: 'бензин' if x=='nan' else x) # пропуски заполним самым частым значением\n",
    "#data['engineDisplacement'] = data['engineDisplacement'].fillna(2.0) # Объем двигателя. пропуски заменим на самый частый - 2.0\n",
    "#data['engineDisplacement'] = data['engineDisplacement'].apply(lambda x: 2.0 if x=='undefined LTR' else float(str(x)[:3])) # уберем лишнее\n",
    "data['enginePower'] = data['enginePower'].apply(lambda x: x if type(x)==float else int(re.search('\\d+', x)[0])) # возьмем только цифры для лошадок\n",
    "data['enginePower'] = data['enginePower'].fillna(data['enginePower'].median()) # пропуски заменим медианой\n",
    "data = data[~(data['Руль']=='Правый')] # уберем руль, он всего один правый, остальные - левые (вместе со строкой удалим)\n",
    "data.drop(['Руль'], axis=1, inplace=True) \n",
    "# data.drop(['Состояние'], axis=1, inplace=True) # Состояние везде не требует ремонта\n",
    "data['Владельцы'] = data['Владельцы'].fillna('3 или более') # Владелт=ьцы заполним замым частым\n",
    "data.drop(['Таможня'], axis=1, inplace=True) # все растаможены\n",
    "data.drop(['Владение'], axis=1, inplace=True) # слишком мало данных 4к из 10к\n",
    "\n",
    "data['Price'] = data['Price'].apply(lambda x: np.log(x)) # сгладим цены, главное в предикте потом вернуть!!!\n",
    "\n",
    "\n",
    "\n",
    "\n",
    "data['Владельцы'] = data['Владельцы'].apply(lambda x: x if type(x)==float else float(re.search('\\d+', x)[0]))\n",
    "data['ПТС'] = data['ПТС'].map({'DUPLICATE':'Дубликат', 'ORIGINAL':'Оригинал'})\n",
    "data['color'] = data['color'].map({'CACECB': 'серебристый', 'FAFBFB':'белый', 'EE1D19':'красный', '97948F':'серый', \n",
    "                                     '660099':'пурпурный', '040001':'чёрный','4A2197':'фиолетовый', \n",
    "                                     '200204':'коричневый','0000CC':'синий', '007F00':'зелёный', 'C49648':'бежевый',\n",
    "                                     '22A0F8':'голубой','DEA522':'золотистый','FFD600': 'жёлтый', 'FF8649':'оранжевый',\n",
    "                                     'FFC0CB':'розовый'})\n",
    "data['bodyType'] = data['bodyType'].apply(lambda x: str(x).lower())\n",
    "data.drop(['Комплектация'], axis=1, inplace=True)\n",
    "\n",
    "\n",
    "data.sample(2)"
   ]
  },
  {
   "cell_type": "code",
   "execution_count": 106,
   "metadata": {},
   "outputs": [
    {
     "data": {
      "text/plain": [
       "3.0    7841\n",
       "1.0    5384\n",
       "2.0    5002\n",
       "Name: Владельцы, dtype: int64"
      ]
     },
     "execution_count": 106,
     "metadata": {},
     "output_type": "execute_result"
    }
   ],
   "source": [
    "data['Владельцы'].value_counts()"
   ]
  },
  {
   "cell_type": "markdown",
   "metadata": {},
   "source": [
    "#### 2. EDA "
   ]
  },
  {
   "cell_type": "code",
   "execution_count": 107,
   "metadata": {},
   "outputs": [
    {
     "name": "stdout",
     "output_type": "stream",
     "text": [
      "<class 'pandas.core.frame.DataFrame'>\n",
      "Int64Index: 18227 entries, 4760 to 3836\n",
      "Data columns (total 14 columns):\n",
      " #   Column               Non-Null Count  Dtype  \n",
      "---  ------               --------------  -----  \n",
      " 0   bodyType             18227 non-null  object \n",
      " 1   color                14390 non-null  object \n",
      " 2   fuelType             18227 non-null  object \n",
      " 3   modelDate            18227 non-null  float64\n",
      " 4   numberOfDoors        18227 non-null  float64\n",
      " 5   productionDate       18227 non-null  float64\n",
      " 6   enginePower          18227 non-null  float64\n",
      " 7   mileage              18227 non-null  float64\n",
      " 8   Привод               18227 non-null  object \n",
      " 9   Владельцы            18227 non-null  float64\n",
      " 10  ПТС                  14390 non-null  object \n",
      " 11  Price                14390 non-null  float64\n",
      " 12  vehicleTransmission  18227 non-null  object \n",
      " 13  id                   3837 non-null   float64\n",
      "dtypes: float64(8), object(6)\n",
      "memory usage: 2.1+ MB\n"
     ]
    }
   ],
   "source": [
    "data.info()"
   ]
  },
  {
   "cell_type": "markdown",
   "metadata": {},
   "source": [
    "Разделим признаки на цифровые и категориальные.  \n",
    "Цифровые  \n",
    "'productionDate' - дата производства  \n",
    "'engineDisplacement' - объем движка  \n",
    "'enginePower' - лошадки  \n",
    "'mileage' - пробег  \n",
    "  \n",
    "Категориальные  \n",
    "'bodyType' - тип кузова (седан/хэтчбэк и т.д.)  \n",
    "'color - цвет  \n",
    "'fuelType' - тип топлива  \n",
    "'vehicleTransmission' коробка (автомат/механика/робот)  \n",
    "'Привод' - тут понятно (полный, задний, передний)  \n",
    "'ПТС' - оригинал/дубликат \n",
    "'Владельцы' - количество владельцев по ПТС   \n",
    "\n",
    "'Price' - целевая переменная  \n",
    "'id' - порядковый номер только в тестовой выборке"
   ]
  },
  {
   "cell_type": "code",
   "execution_count": 108,
   "metadata": {},
   "outputs": [],
   "source": [
    "cat_features = ['bodyType', 'color', 'fuelType', 'vehicleTransmission', 'Привод', 'Владельцы', 'ПТС']\n",
    "num_features = ['productionDate', 'engineDisplacement', 'enginePower', 'mileage']"
   ]
  },
  {
   "cell_type": "markdown",
   "metadata": {},
   "source": [
    "Посмотрим на цифровые признаки  \n",
    "'productionDate'"
   ]
  },
  {
   "cell_type": "code",
   "execution_count": 109,
   "metadata": {},
   "outputs": [
    {
     "data": {
      "text/plain": [
       "<AxesSubplot:>"
      ]
     },
     "execution_count": 109,
     "metadata": {},
     "output_type": "execute_result"
    },
    {
     "data": {
      "image/png": "[encoded data removed]",
      "text/plain": [
       "<Figure size 432x288 with 1 Axes>"
      ]
     },
     "metadata": {
      "needs_background": "light"
     },
     "output_type": "display_data"
    }
   ],
   "source": [
    "data['productionDate'].hist(bins=50)"
   ]
  },
  {
   "cell_type": "code",
   "execution_count": 110,
   "metadata": {},
   "outputs": [
    {
     "data": {
      "text/plain": [
       "<AxesSubplot:>"
      ]
     },
     "execution_count": 110,
     "metadata": {},
     "output_type": "execute_result"
    },
    {
     "data": {
      "image/png": "[encoded data removed]",
      "text/plain": [
       "<Figure size 432x288 with 1 Axes>"
      ]
     },
     "metadata": {
      "needs_background": "light"
     },
     "output_type": "display_data"
    }
   ],
   "source": [
    "# переведем дату производства в возраст машины и посмотрим выбросы\n",
    "data['years_old'] = date.today().year - data['productionDate']\n",
    "# и добавим признак разности между датой производства и датой выпуска модели\n",
    "data['model_old'] = data['productionDate'] - data['modelDate']\n",
    "\n",
    "# уберем столбец с годом производства\n",
    "data.drop(['productionDate', 'modelDate'], axis=1, inplace=True)\n",
    "data['years_old'].hist(bins=50)"
   ]
  },
  {
   "cell_type": "code",
   "execution_count": 111,
   "metadata": {},
   "outputs": [
    {
     "data": {
      "text/plain": [
       "<AxesSubplot:>"
      ]
     },
     "execution_count": 111,
     "metadata": {},
     "output_type": "execute_result"
    },
    {
     "data": {
      "image/png": "[encoded data removed]",
      "text/plain": [
       "<Figure size 432x288 with 1 Axes>"
      ]
     },
     "metadata": {
      "needs_background": "light"
     },
     "output_type": "display_data"
    }
   ],
   "source": [
    "data['model_old'].hist(bins=50) "
   ]
  },
  {
   "cell_type": "code",
   "execution_count": 112,
   "metadata": {},
   "outputs": [
    {
     "data": {
      "text/plain": [
       "<AxesSubplot:>"
      ]
     },
     "execution_count": 112,
     "metadata": {},
     "output_type": "execute_result"
    },
    {
     "data": {
      "image/png": "[encoded data removed]",
      "text/plain": [
       "<Figure size 432x288 with 1 Axes>"
      ]
     },
     "metadata": {
      "needs_background": "light"
     },
     "output_type": "display_data"
    }
   ],
   "source": [
    "perc_25 = data['years_old'].quantile(0.25)\n",
    "perc_75 = data['years_old'].quantile(0.75)\n",
    "IQR = perc_75 - perc_25\n",
    "\n",
    "# посмотрим сколько авто идет в выбросы по межквартильному расстоянию\n",
    "data[data['years_old'] > perc_75+IQR*1.5]['years_old'].hist()"
   ]
  },
  {
   "cell_type": "code",
   "execution_count": 113,
   "metadata": {},
   "outputs": [
    {
     "data": {
      "text/plain": [
       "41.0"
      ]
     },
     "execution_count": 113,
     "metadata": {},
     "output_type": "execute_result"
    }
   ],
   "source": [
    "# Посмотрим какой вораст наибольший в валидационной выборке, где нужно будет делать предсказание\n",
    "data[(data['id']>0)]['years_old'].max()"
   ]
  },
  {
   "cell_type": "code",
   "execution_count": 114,
   "metadata": {},
   "outputs": [
    {
     "data": {
      "text/plain": [
       "<AxesSubplot:>"
      ]
     },
     "execution_count": 114,
     "metadata": {},
     "output_type": "execute_result"
    },
    {
     "data": {
      "image/png": "[encoded data removed]",
      "text/plain": [
       "<Figure size 432x288 with 1 Axes>"
      ]
     },
     "metadata": {
      "needs_background": "light"
     },
     "output_type": "display_data"
    }
   ],
   "source": [
    "# выбросим всех, кто старше 41\n",
    "data = data[~(data['years_old'] > 41)]\n",
    "data['years_old'].hist(bins=50)"
   ]
  },
  {
   "cell_type": "markdown",
   "metadata": {},
   "source": [
    "Следущий признак 'engineDisplacement'"
   ]
  },
  {
   "cell_type": "code",
   "execution_count": 115,
   "metadata": {},
   "outputs": [],
   "source": [
    "# data['engineDisplacement'].hist(bins=20)"
   ]
  },
  {
   "cell_type": "markdown",
   "metadata": {},
   "source": [
    "Видно преобладание 2-х и 3-х литровых двигателей. Можно посмотреть на цедесообразность отнесения данного признака к категориальным"
   ]
  },
  {
   "cell_type": "markdown",
   "metadata": {},
   "source": [
    "Следущий признак 'engineDisplacement'"
   ]
  },
  {
   "cell_type": "code",
   "execution_count": 116,
   "metadata": {},
   "outputs": [
    {
     "data": {
      "text/plain": [
       "<AxesSubplot:>"
      ]
     },
     "execution_count": 116,
     "metadata": {},
     "output_type": "execute_result"
    },
    {
     "data": {
      "image/png": "[encoded data removed]",
      "text/plain": [
       "<Figure size 432x288 with 1 Axes>"
      ]
     },
     "metadata": {
      "needs_background": "light"
     },
     "output_type": "display_data"
    }
   ],
   "source": [
    "data['enginePower'].hist(bins=10)"
   ]
  },
  {
   "cell_type": "code",
   "execution_count": 117,
   "metadata": {},
   "outputs": [
    {
     "data": {
      "text/plain": [
       "<AxesSubplot:>"
      ]
     },
     "execution_count": 117,
     "metadata": {},
     "output_type": "execute_result"
    },
    {
     "data": {
      "image/png": "[encoded data removed]",
      "text/plain": [
       "<Figure size 432x288 with 1 Axes>"
      ]
     },
     "metadata": {
      "needs_background": "light"
     },
     "output_type": "display_data"
    }
   ],
   "source": [
    "# сгладим данные логарифмом\n",
    "data['enginePower'] = np.log(data['enginePower'])\n",
    "data['enginePower'].hist(bins=12)"
   ]
  },
  {
   "cell_type": "markdown",
   "metadata": {},
   "source": [
    "Следущий признак 'mileage'"
   ]
  },
  {
   "cell_type": "code",
   "execution_count": 118,
   "metadata": {},
   "outputs": [
    {
     "data": {
      "text/plain": [
       "<AxesSubplot:>"
      ]
     },
     "execution_count": 118,
     "metadata": {},
     "output_type": "execute_result"
    },
    {
     "data": {
      "image/png": "[encoded data removed]",
      "text/plain": [
       "<Figure size 432x288 with 1 Axes>"
      ]
     },
     "metadata": {
      "needs_background": "light"
     },
     "output_type": "display_data"
    }
   ],
   "source": [
    "data['mileage'].hist(bins=20)"
   ]
  },
  {
   "cell_type": "code",
   "execution_count": 119,
   "metadata": {},
   "outputs": [
    {
     "data": {
      "text/html": [
       "<div>\n",
       "<style scoped>\n",
       "    .dataframe tbody tr th:only-of-type {\n",
       "        vertical-align: middle;\n",
       "    }\n",
       "\n",
       "    .dataframe tbody tr th {\n",
       "        vertical-align: top;\n",
       "    }\n",
       "\n",
       "    .dataframe thead th {\n",
       "        text-align: right;\n",
       "    }\n",
       "</style>\n",
       "<table border=\"1\" class=\"dataframe\">\n",
       "  <thead>\n",
       "    <tr style=\"text-align: right;\">\n",
       "      <th></th>\n",
       "      <th>bodyType</th>\n",
       "      <th>color</th>\n",
       "      <th>fuelType</th>\n",
       "      <th>numberOfDoors</th>\n",
       "      <th>enginePower</th>\n",
       "      <th>mileage</th>\n",
       "      <th>Привод</th>\n",
       "      <th>Владельцы</th>\n",
       "      <th>ПТС</th>\n",
       "      <th>Price</th>\n",
       "      <th>vehicleTransmission</th>\n",
       "      <th>id</th>\n",
       "      <th>years_old</th>\n",
       "      <th>model_old</th>\n",
       "    </tr>\n",
       "  </thead>\n",
       "  <tbody>\n",
       "    <tr>\n",
       "      <th>5072</th>\n",
       "      <td>хэтчбек 5 дв.</td>\n",
       "      <td>чёрный</td>\n",
       "      <td>бензин</td>\n",
       "      <td>5.0</td>\n",
       "      <td>4.859812</td>\n",
       "      <td>354000.0</td>\n",
       "      <td>задний</td>\n",
       "      <td>3.0</td>\n",
       "      <td>Оригинал</td>\n",
       "      <td>12.644328</td>\n",
       "      <td>автоматическая</td>\n",
       "      <td>NaN</td>\n",
       "      <td>17.0</td>\n",
       "      <td>1.0</td>\n",
       "    </tr>\n",
       "    <tr>\n",
       "      <th>5204</th>\n",
       "      <td>хэтчбек 3 дв. compact</td>\n",
       "      <td>серый</td>\n",
       "      <td>бензин</td>\n",
       "      <td>3.0</td>\n",
       "      <td>4.744932</td>\n",
       "      <td>360000.0</td>\n",
       "      <td>задний</td>\n",
       "      <td>3.0</td>\n",
       "      <td>Дубликат</td>\n",
       "      <td>11.918391</td>\n",
       "      <td>механическая</td>\n",
       "      <td>NaN</td>\n",
       "      <td>19.0</td>\n",
       "      <td>2.0</td>\n",
       "    </tr>\n",
       "    <tr>\n",
       "      <th>5211</th>\n",
       "      <td>универсал 5 дв.</td>\n",
       "      <td>серый</td>\n",
       "      <td>дизель</td>\n",
       "      <td>5.0</td>\n",
       "      <td>5.010635</td>\n",
       "      <td>496000.0</td>\n",
       "      <td>задний</td>\n",
       "      <td>3.0</td>\n",
       "      <td>Оригинал</td>\n",
       "      <td>12.992255</td>\n",
       "      <td>механическая</td>\n",
       "      <td>NaN</td>\n",
       "      <td>17.0</td>\n",
       "      <td>4.0</td>\n",
       "    </tr>\n",
       "    <tr>\n",
       "      <th>5402</th>\n",
       "      <td>универсал 5 дв.</td>\n",
       "      <td>серебристый</td>\n",
       "      <td>дизель</td>\n",
       "      <td>5.0</td>\n",
       "      <td>5.010635</td>\n",
       "      <td>397800.0</td>\n",
       "      <td>задний</td>\n",
       "      <td>3.0</td>\n",
       "      <td>Оригинал</td>\n",
       "      <td>12.899220</td>\n",
       "      <td>автоматическая</td>\n",
       "      <td>NaN</td>\n",
       "      <td>18.0</td>\n",
       "      <td>3.0</td>\n",
       "    </tr>\n",
       "    <tr>\n",
       "      <th>5539</th>\n",
       "      <td>хэтчбек 3 дв. compact</td>\n",
       "      <td>серебристый</td>\n",
       "      <td>бензин</td>\n",
       "      <td>3.0</td>\n",
       "      <td>4.941642</td>\n",
       "      <td>350000.0</td>\n",
       "      <td>задний</td>\n",
       "      <td>3.0</td>\n",
       "      <td>Оригинал</td>\n",
       "      <td>11.461632</td>\n",
       "      <td>механическая</td>\n",
       "      <td>NaN</td>\n",
       "      <td>25.0</td>\n",
       "      <td>7.0</td>\n",
       "    </tr>\n",
       "    <tr>\n",
       "      <th>...</th>\n",
       "      <td>...</td>\n",
       "      <td>...</td>\n",
       "      <td>...</td>\n",
       "      <td>...</td>\n",
       "      <td>...</td>\n",
       "      <td>...</td>\n",
       "      <td>...</td>\n",
       "      <td>...</td>\n",
       "      <td>...</td>\n",
       "      <td>...</td>\n",
       "      <td>...</td>\n",
       "      <td>...</td>\n",
       "      <td>...</td>\n",
       "      <td>...</td>\n",
       "    </tr>\n",
       "    <tr>\n",
       "      <th>3504</th>\n",
       "      <td>универсал 5 дв.</td>\n",
       "      <td>NaN</td>\n",
       "      <td>дизель</td>\n",
       "      <td>5.0</td>\n",
       "      <td>5.459586</td>\n",
       "      <td>360000.0</td>\n",
       "      <td>задний</td>\n",
       "      <td>3.0</td>\n",
       "      <td>NaN</td>\n",
       "      <td>NaN</td>\n",
       "      <td>автоматическая</td>\n",
       "      <td>3504.0</td>\n",
       "      <td>15.0</td>\n",
       "      <td>0.0</td>\n",
       "    </tr>\n",
       "    <tr>\n",
       "      <th>3573</th>\n",
       "      <td>внедорожник 5 дв.</td>\n",
       "      <td>NaN</td>\n",
       "      <td>бензин</td>\n",
       "      <td>5.0</td>\n",
       "      <td>5.768321</td>\n",
       "      <td>350000.0</td>\n",
       "      <td>полный</td>\n",
       "      <td>3.0</td>\n",
       "      <td>NaN</td>\n",
       "      <td>NaN</td>\n",
       "      <td>автоматическая</td>\n",
       "      <td>3573.0</td>\n",
       "      <td>18.0</td>\n",
       "      <td>1.0</td>\n",
       "    </tr>\n",
       "    <tr>\n",
       "      <th>3651</th>\n",
       "      <td>внедорожник 5 дв.</td>\n",
       "      <td>NaN</td>\n",
       "      <td>бензин</td>\n",
       "      <td>5.0</td>\n",
       "      <td>5.849325</td>\n",
       "      <td>380000.0</td>\n",
       "      <td>полный</td>\n",
       "      <td>3.0</td>\n",
       "      <td>NaN</td>\n",
       "      <td>NaN</td>\n",
       "      <td>автоматическая</td>\n",
       "      <td>3651.0</td>\n",
       "      <td>20.0</td>\n",
       "      <td>3.0</td>\n",
       "    </tr>\n",
       "    <tr>\n",
       "      <th>3713</th>\n",
       "      <td>седан</td>\n",
       "      <td>NaN</td>\n",
       "      <td>бензин</td>\n",
       "      <td>4.0</td>\n",
       "      <td>5.010635</td>\n",
       "      <td>520416.0</td>\n",
       "      <td>задний</td>\n",
       "      <td>3.0</td>\n",
       "      <td>NaN</td>\n",
       "      <td>NaN</td>\n",
       "      <td>механическая</td>\n",
       "      <td>3713.0</td>\n",
       "      <td>27.0</td>\n",
       "      <td>8.0</td>\n",
       "    </tr>\n",
       "    <tr>\n",
       "      <th>3816</th>\n",
       "      <td>седан</td>\n",
       "      <td>NaN</td>\n",
       "      <td>бензин</td>\n",
       "      <td>4.0</td>\n",
       "      <td>5.262690</td>\n",
       "      <td>390000.0</td>\n",
       "      <td>задний</td>\n",
       "      <td>3.0</td>\n",
       "      <td>NaN</td>\n",
       "      <td>NaN</td>\n",
       "      <td>автоматическая</td>\n",
       "      <td>3816.0</td>\n",
       "      <td>25.0</td>\n",
       "      <td>2.0</td>\n",
       "    </tr>\n",
       "  </tbody>\n",
       "</table>\n",
       "<p>623 rows × 14 columns</p>\n",
       "</div>"
      ],
      "text/plain": [
       "                   bodyType        color fuelType  numberOfDoors  enginePower  \\\n",
       "5072          хэтчбек 5 дв.       чёрный   бензин            5.0     4.859812   \n",
       "5204  хэтчбек 3 дв. compact        серый   бензин            3.0     4.744932   \n",
       "5211        универсал 5 дв.        серый   дизель            5.0     5.010635   \n",
       "5402        универсал 5 дв.  серебристый   дизель            5.0     5.010635   \n",
       "5539  хэтчбек 3 дв. compact  серебристый   бензин            3.0     4.941642   \n",
       "...                     ...          ...      ...            ...          ...   \n",
       "3504        универсал 5 дв.          NaN   дизель            5.0     5.459586   \n",
       "3573      внедорожник 5 дв.          NaN   бензин            5.0     5.768321   \n",
       "3651      внедорожник 5 дв.          NaN   бензин            5.0     5.849325   \n",
       "3713                  седан          NaN   бензин            4.0     5.010635   \n",
       "3816                  седан          NaN   бензин            4.0     5.262690   \n",
       "\n",
       "       mileage  Привод  Владельцы       ПТС      Price vehicleTransmission  \\\n",
       "5072  354000.0  задний        3.0  Оригинал  12.644328      автоматическая   \n",
       "5204  360000.0  задний        3.0  Дубликат  11.918391        механическая   \n",
       "5211  496000.0  задний        3.0  Оригинал  12.992255        механическая   \n",
       "5402  397800.0  задний        3.0  Оригинал  12.899220      автоматическая   \n",
       "5539  350000.0  задний        3.0  Оригинал  11.461632        механическая   \n",
       "...        ...     ...        ...       ...        ...                 ...   \n",
       "3504  360000.0  задний        3.0       NaN        NaN      автоматическая   \n",
       "3573  350000.0  полный        3.0       NaN        NaN      автоматическая   \n",
       "3651  380000.0  полный        3.0       NaN        NaN      автоматическая   \n",
       "3713  520416.0  задний        3.0       NaN        NaN        механическая   \n",
       "3816  390000.0  задний        3.0       NaN        NaN      автоматическая   \n",
       "\n",
       "          id  years_old  model_old  \n",
       "5072     NaN       17.0        1.0  \n",
       "5204     NaN       19.0        2.0  \n",
       "5211     NaN       17.0        4.0  \n",
       "5402     NaN       18.0        3.0  \n",
       "5539     NaN       25.0        7.0  \n",
       "...      ...        ...        ...  \n",
       "3504  3504.0       15.0        0.0  \n",
       "3573  3573.0       18.0        1.0  \n",
       "3651  3651.0       20.0        3.0  \n",
       "3713  3713.0       27.0        8.0  \n",
       "3816  3816.0       25.0        2.0  \n",
       "\n",
       "[623 rows x 14 columns]"
      ]
     },
     "execution_count": 119,
     "metadata": {},
     "output_type": "execute_result"
    }
   ],
   "source": [
    "perc_25 = data['mileage'].quantile(0.25)\n",
    "perc_75 = data['mileage'].quantile(0.75)\n",
    "IQR = perc_75 - perc_25\n",
    "\n",
    "# посмотрим сколько авто идет в выбросы по межквартильному расстоянию\n",
    "data[data['mileage'] > perc_75+IQR*1.5]"
   ]
  },
  {
   "cell_type": "markdown",
   "metadata": {},
   "source": [
    "выбросы убирать не будем, так как большинство в валидационной выборке"
   ]
  },
  {
   "cell_type": "code",
   "execution_count": 120,
   "metadata": {},
   "outputs": [
    {
     "data": {
      "text/html": [
       "<div>\n",
       "<style scoped>\n",
       "    .dataframe tbody tr th:only-of-type {\n",
       "        vertical-align: middle;\n",
       "    }\n",
       "\n",
       "    .dataframe tbody tr th {\n",
       "        vertical-align: top;\n",
       "    }\n",
       "\n",
       "    .dataframe thead th {\n",
       "        text-align: right;\n",
       "    }\n",
       "</style>\n",
       "<table border=\"1\" class=\"dataframe\">\n",
       "  <thead>\n",
       "    <tr style=\"text-align: right;\">\n",
       "      <th></th>\n",
       "      <th>years_old</th>\n",
       "      <th>model_old</th>\n",
       "      <th>enginePower</th>\n",
       "      <th>mileage</th>\n",
       "      <th>numberOfDoors</th>\n",
       "      <th>Владельцы</th>\n",
       "    </tr>\n",
       "  </thead>\n",
       "  <tbody>\n",
       "    <tr>\n",
       "      <th>years_old</th>\n",
       "      <td>1.000000</td>\n",
       "      <td>0.127322</td>\n",
       "      <td>-0.195703</td>\n",
       "      <td>0.786089</td>\n",
       "      <td>-0.128049</td>\n",
       "      <td>0.560280</td>\n",
       "    </tr>\n",
       "    <tr>\n",
       "      <th>model_old</th>\n",
       "      <td>0.127322</td>\n",
       "      <td>1.000000</td>\n",
       "      <td>-0.144326</td>\n",
       "      <td>0.079554</td>\n",
       "      <td>-0.026299</td>\n",
       "      <td>-0.000850</td>\n",
       "    </tr>\n",
       "    <tr>\n",
       "      <th>enginePower</th>\n",
       "      <td>-0.195703</td>\n",
       "      <td>-0.144326</td>\n",
       "      <td>1.000000</td>\n",
       "      <td>-0.172510</td>\n",
       "      <td>0.079707</td>\n",
       "      <td>-0.066463</td>\n",
       "    </tr>\n",
       "    <tr>\n",
       "      <th>mileage</th>\n",
       "      <td>0.786089</td>\n",
       "      <td>0.079554</td>\n",
       "      <td>-0.172510</td>\n",
       "      <td>1.000000</td>\n",
       "      <td>-0.026826</td>\n",
       "      <td>0.516059</td>\n",
       "    </tr>\n",
       "    <tr>\n",
       "      <th>numberOfDoors</th>\n",
       "      <td>-0.128049</td>\n",
       "      <td>-0.026299</td>\n",
       "      <td>0.079707</td>\n",
       "      <td>-0.026826</td>\n",
       "      <td>1.000000</td>\n",
       "      <td>-0.119631</td>\n",
       "    </tr>\n",
       "    <tr>\n",
       "      <th>Владельцы</th>\n",
       "      <td>0.560280</td>\n",
       "      <td>-0.000850</td>\n",
       "      <td>-0.066463</td>\n",
       "      <td>0.516059</td>\n",
       "      <td>-0.119631</td>\n",
       "      <td>1.000000</td>\n",
       "    </tr>\n",
       "  </tbody>\n",
       "</table>\n",
       "</div>"
      ],
      "text/plain": [
       "               years_old  model_old  enginePower   mileage  numberOfDoors  \\\n",
       "years_old       1.000000   0.127322    -0.195703  0.786089      -0.128049   \n",
       "model_old       0.127322   1.000000    -0.144326  0.079554      -0.026299   \n",
       "enginePower    -0.195703  -0.144326     1.000000 -0.172510       0.079707   \n",
       "mileage         0.786089   0.079554    -0.172510  1.000000      -0.026826   \n",
       "numberOfDoors  -0.128049  -0.026299     0.079707 -0.026826       1.000000   \n",
       "Владельцы       0.560280  -0.000850    -0.066463  0.516059      -0.119631   \n",
       "\n",
       "               Владельцы  \n",
       "years_old       0.560280  \n",
       "model_old      -0.000850  \n",
       "enginePower    -0.066463  \n",
       "mileage         0.516059  \n",
       "numberOfDoors  -0.119631  \n",
       "Владельцы       1.000000  "
      ]
     },
     "execution_count": 120,
     "metadata": {},
     "output_type": "execute_result"
    }
   ],
   "source": [
    "num_features = ['years_old', 'model_old', 'enginePower', 'mileage', 'numberOfDoors', 'Владельцы']\n",
    "data[num_features].corr()"
   ]
  },
  {
   "cell_type": "markdown",
   "metadata": {},
   "source": [
    "Видим логичную высокую корреляцию:  \n",
    "- чем старше авто, тем выше пробег  \n",
    "- чем больше двигатель, тем он мощнее"
   ]
  },
  {
   "cell_type": "markdown",
   "metadata": {},
   "source": [
    "#### Теперь перейдем к категориальным признакам"
   ]
  },
  {
   "cell_type": "code",
   "execution_count": 121,
   "metadata": {},
   "outputs": [],
   "source": [
    "cat_features = ['bodyType', 'color', 'fuelType', 'vehicleTransmission', 'Привод', 'ПТС']"
   ]
  },
  {
   "cell_type": "code",
   "execution_count": 122,
   "metadata": {},
   "outputs": [],
   "source": [
    "#Посмотрим боксплоты\n",
    "def get_boxplot(column):\n",
    "    fig, ax = plt.subplots(figsize = (14, 4))\n",
    "    sns.boxplot(x=column, y='Price', \n",
    "                data=data.loc[data.loc[:, column].isin(data.loc[:, column].value_counts().index[:10])],\n",
    "               ax=ax)\n",
    "    plt.xticks(rotation=45)\n",
    "    ax.set_title('Boxplot for ' + column)\n",
    "    plt.show()"
   ]
  },
  {
   "cell_type": "code",
   "execution_count": 123,
   "metadata": {},
   "outputs": [
    {
     "data": {
      "image/png": "[encoded data removed]",
      "text/plain": [
       "<Figure size 1008x288 with 1 Axes>"
      ]
     },
     "metadata": {
      "needs_background": "light"
     },
     "output_type": "display_data"
    },
    {
     "data": {
      "image/png": "[encoded data removed]",
      "text/plain": [
       "<Figure size 1008x288 with 1 Axes>"
      ]
     },
     "metadata": {
      "needs_background": "light"
     },
     "output_type": "display_data"
    },
    {
     "data": {
      "image/png": "[encoded data removed]",
      "text/plain": [
       "<Figure size 1008x288 with 1 Axes>"
      ]
     },
     "metadata": {
      "needs_background": "light"
     },
     "output_type": "display_data"
    },
    {
     "data": {
      "image/png": "[encoded data removed]",
      "text/plain": [
       "<Figure size 1008x288 with 1 Axes>"
      ]
     },
     "metadata": {
      "needs_background": "light"
     },
     "output_type": "display_data"
    },
    {
     "data": {
      "image/png": "[encoded data removed]",
      "text/plain": [
       "<Figure size 1008x288 with 1 Axes>"
      ]
     },
     "metadata": {
      "needs_background": "light"
     },
     "output_type": "display_data"
    },
    {
     "data": {
      "image/png": "[encoded data removed]",
      "text/plain": [
       "<Figure size 1008x288 with 1 Axes>"
      ]
     },
     "metadata": {
      "needs_background": "light"
     },
     "output_type": "display_data"
    }
   ],
   "source": [
    "for col in cat_features:\n",
    "    get_boxplot(col)"
   ]
  },
  {
   "cell_type": "markdown",
   "metadata": {},
   "source": [
    "По графикам похоже, что все параметры могут влиять на цену (нельзя убрать только тип двигателя - электро, так как он в валидационной выборке)"
   ]
  },
  {
   "cell_type": "markdown",
   "metadata": {},
   "source": [
    "#### 3. Prediction"
   ]
  },
  {
   "cell_type": "code",
   "execution_count": 124,
   "metadata": {},
   "outputs": [],
   "source": [
    "# разобьем категориальные признаки (get_dummies)\n",
    "for category in cat_features:\n",
    "    one_hot = pd.get_dummies(data[category])\n",
    "    data = pd.concat([data, one_hot], axis=1, join='inner')\n",
    "    data.drop([category], axis=1, inplace=True)"
   ]
  },
  {
   "cell_type": "code",
   "execution_count": 126,
   "metadata": {},
   "outputs": [],
   "source": [
    "X_valid = data[data['id'] >= 0].drop(['Price', 'id'], axis=1)\n",
    "\n",
    "X = data[~(data['id'] >= 0)].drop(['Price', 'id'], axis=1)\n",
    "y = data[~(data['id'] >= 0)]['Price']\n",
    "\n",
    "\n",
    "scaler = MinMaxScaler()\n",
    "X[num_features] = scaler.fit_transform(X[num_features])\n",
    "X_valid[num_features] = scaler.fit_transform(X_valid[num_features])"
   ]
  },
  {
   "cell_type": "code",
   "execution_count": 127,
   "metadata": {},
   "outputs": [],
   "source": [
    "\n",
    "VAL_SIZE   = 0.33\n",
    "N_FOLDS    = 10\n",
    "\n",
    "# CATBOOST\n",
    "ITERATIONS = 4000\n",
    "LR         = 0.05\n",
    "\n",
    "RANDOM_SEED = 42\n",
    "VERSION=3\n",
    "\n",
    "X_train, X_test, y_train, y_test = train_test_split(X, y, shuffle=False, test_size = VAL_SIZE, random_state=RANDOM_SEED)"
   ]
  },
  {
   "cell_type": "code",
   "execution_count": 128,
   "metadata": {},
   "outputs": [],
   "source": [
    "def get_params(regressor, X, y):\n",
    "    # подбираем оптимальные параметры\n",
    "    n_estimators = [int(x) for x in np.linspace(start=100, stop=4000, num=100)]\n",
    "    max_features =  ['auto', 'sqrt']\n",
    "    max_depth = [int(x) for x in np.linspace(start=10, stop=110, num=11)]\n",
    "    max_depth.append(None)\n",
    "    min_samples_split = [int(x) for x in np.linspace(start=2, stop=10, num=1)]\n",
    "    min_samples_leaf = [1, 2, 4, 6, 8]\n",
    "    bootstrap = [True, False]\n",
    "\n",
    "    random_grid = {'n_estimators': n_estimators,\n",
    "                   'max_features': max_features,\n",
    "                   'max_depth': max_depth,\n",
    "                   'min_samples_split': min_samples_split,\n",
    "                   'min_samples_leaf': min_samples_leaf,\n",
    "                   'bootstrap': bootstrap\n",
    "                   }\n",
    "\n",
    "    X_train = X\n",
    "    y_train = y\n",
    "\n",
    "    # подбор оптимальных параметров\n",
    "    rfr = RandomizedSearchCV(estimator=regressor, param_distributions=random_grid, n_iter=100, cv=10, verbose=2, random_state=42, n_jobs=-1)\n",
    "    rfr.fit(X_train, y_train)\n",
    "\n",
    "    return rfr.best_params_"
   ]
  },
  {
   "cell_type": "code",
   "execution_count": 129,
   "metadata": {},
   "outputs": [
    {
     "name": "stdout",
     "output_type": "stream",
     "text": [
      "Fitting 10 folds for each of 100 candidates, totalling 1000 fits\n",
      "MSE :  0.03769493658456221 MAE :  0.12114080705289484 MAPE :  0.00892163405686705\n",
      "==============================\n",
      "0.940736613637893\n"
     ]
    }
   ],
   "source": [
    "params = get_params(RandomForestRegressor(), X_train, y_train)\n",
    "rfr_model = RandomForestRegressor(**params)\n",
    "rfr_model.fit(X_train, y_train)\n",
    "\n",
    "y_pred = rfr_model.predict(X_test)\n",
    "\n",
    "print('MSE : ', mse(y_pred, y_test), 'MAE : ', mae(y_pred, y_test), 'MAPE : ', mape(y_pred, y_test))\n",
    "print('='*30)\n",
    "print(r2_score(y_pred, y_test))"
   ]
  },
  {
   "cell_type": "code",
   "execution_count": 130,
   "metadata": {},
   "outputs": [
    {
     "data": {
      "text/plain": [
       "{'n_estimators': 2148,\n",
       " 'min_samples_split': 2,\n",
       " 'min_samples_leaf': 2,\n",
       " 'max_features': 'auto',\n",
       " 'max_depth': 40,\n",
       " 'bootstrap': True}"
      ]
     },
     "execution_count": 130,
     "metadata": {},
     "output_type": "execute_result"
    }
   ],
   "source": [
    "params"
   ]
  },
  {
   "cell_type": "code",
   "execution_count": 131,
   "metadata": {},
   "outputs": [
    {
     "data": {
      "text/plain": [
       "array([1769000., 1523000., 1484000., ...,  558000., 1098000., 1146000.])"
      ]
     },
     "execution_count": 131,
     "metadata": {},
     "output_type": "execute_result"
    }
   ],
   "source": [
    "y_valid = rfr_model.predict(X_valid)\n",
    "y_valid = np.round(np.exp(y_valid)/1000)*1000\n",
    "y_valid"
   ]
  },
  {
   "cell_type": "code",
   "execution_count": 132,
   "metadata": {},
   "outputs": [],
   "source": [
    "submission = pd.DataFrame()\n",
    "submission['Price'] = y_valid\n",
    "submission['id'] = submission.index\n",
    "submission = submission.reindex(columns=['id', 'Price'])\n",
    "submission.to_csv(r'rfr_submission.csv', index=False)"
   ]
  },
  {
   "cell_type": "code",
   "execution_count": 133,
   "metadata": {},
   "outputs": [
    {
     "name": "stdout",
     "output_type": "stream",
     "text": [
      "Learning rate set to 0.027224\n",
      "0:\tlearn: 0.0428874\ttest: 0.0471039\tbest: 0.0471039 (0)\ttotal: 162ms\tremaining: 13m 28s\n",
      "100:\tlearn: 0.0108176\ttest: 0.0121920\tbest: 0.0121920 (100)\ttotal: 1.62s\tremaining: 1m 18s\n",
      "200:\tlearn: 0.0093107\ttest: 0.0104785\tbest: 0.0104785 (200)\ttotal: 2.99s\tremaining: 1m 11s\n",
      "300:\tlearn: 0.0088398\ttest: 0.0101389\tbest: 0.0101389 (300)\ttotal: 4.36s\tremaining: 1m 8s\n",
      "400:\tlearn: 0.0084620\ttest: 0.0099419\tbest: 0.0099419 (400)\ttotal: 5.73s\tremaining: 1m 5s\n",
      "500:\tlearn: 0.0081361\ttest: 0.0097617\tbest: 0.0097617 (500)\ttotal: 7.13s\tremaining: 1m 4s\n",
      "600:\tlearn: 0.0078571\ttest: 0.0096183\tbest: 0.0096183 (600)\ttotal: 8.5s\tremaining: 1m 2s\n",
      "700:\tlearn: 0.0076071\ttest: 0.0095017\tbest: 0.0095017 (700)\ttotal: 9.86s\tremaining: 1m\n",
      "800:\tlearn: 0.0073770\ttest: 0.0094027\tbest: 0.0094027 (800)\ttotal: 11.2s\tremaining: 58.9s\n",
      "900:\tlearn: 0.0071896\ttest: 0.0093374\tbest: 0.0093371 (899)\ttotal: 12.6s\tremaining: 57.5s\n",
      "1000:\tlearn: 0.0069856\ttest: 0.0092671\tbest: 0.0092671 (1000)\ttotal: 14s\tremaining: 56s\n",
      "1100:\tlearn: 0.0068212\ttest: 0.0092177\tbest: 0.0092176 (1099)\ttotal: 15.4s\tremaining: 54.5s\n",
      "1200:\tlearn: 0.0066559\ttest: 0.0091647\tbest: 0.0091647 (1200)\ttotal: 16.7s\tremaining: 53s\n",
      "1300:\tlearn: 0.0065090\ttest: 0.0091217\tbest: 0.0091217 (1300)\ttotal: 18.1s\tremaining: 51.5s\n",
      "1400:\tlearn: 0.0063591\ttest: 0.0090852\tbest: 0.0090852 (1400)\ttotal: 19.5s\tremaining: 50s\n",
      "1500:\tlearn: 0.0062279\ttest: 0.0090539\tbest: 0.0090539 (1500)\ttotal: 20.8s\tremaining: 48.6s\n",
      "1600:\tlearn: 0.0060987\ttest: 0.0090263\tbest: 0.0090259 (1599)\ttotal: 22.2s\tremaining: 47.1s\n",
      "1700:\tlearn: 0.0059730\ttest: 0.0089973\tbest: 0.0089973 (1700)\ttotal: 23.6s\tremaining: 45.7s\n",
      "1800:\tlearn: 0.0058498\ttest: 0.0089705\tbest: 0.0089705 (1800)\ttotal: 24.9s\tremaining: 44.3s\n",
      "1900:\tlearn: 0.0057323\ttest: 0.0089433\tbest: 0.0089433 (1900)\ttotal: 26.3s\tremaining: 42.8s\n",
      "2000:\tlearn: 0.0056241\ttest: 0.0089216\tbest: 0.0089216 (2000)\ttotal: 27.6s\tremaining: 41.4s\n",
      "2100:\tlearn: 0.0055302\ttest: 0.0089066\tbest: 0.0089066 (2100)\ttotal: 29s\tremaining: 40s\n",
      "2200:\tlearn: 0.0054312\ttest: 0.0088885\tbest: 0.0088885 (2200)\ttotal: 30.4s\tremaining: 38.6s\n",
      "2300:\tlearn: 0.0053317\ttest: 0.0088738\tbest: 0.0088738 (2300)\ttotal: 31.7s\tremaining: 37.2s\n",
      "2400:\tlearn: 0.0052382\ttest: 0.0088601\tbest: 0.0088601 (2400)\ttotal: 33.1s\tremaining: 35.8s\n",
      "2500:\tlearn: 0.0051537\ttest: 0.0088528\tbest: 0.0088522 (2496)\ttotal: 34.4s\tremaining: 34.4s\n",
      "2600:\tlearn: 0.0050634\ttest: 0.0088366\tbest: 0.0088360 (2596)\ttotal: 35.8s\tremaining: 33s\n",
      "2700:\tlearn: 0.0049901\ttest: 0.0088233\tbest: 0.0088231 (2698)\ttotal: 37.1s\tremaining: 31.6s\n",
      "2800:\tlearn: 0.0049041\ttest: 0.0088117\tbest: 0.0088117 (2800)\ttotal: 38.5s\tremaining: 30.2s\n",
      "2900:\tlearn: 0.0048182\ttest: 0.0088019\tbest: 0.0088019 (2900)\ttotal: 39.8s\tremaining: 28.8s\n",
      "3000:\tlearn: 0.0047369\ttest: 0.0087874\tbest: 0.0087869 (2997)\ttotal: 41.2s\tremaining: 27.4s\n",
      "3100:\tlearn: 0.0046547\ttest: 0.0087771\tbest: 0.0087771 (3100)\ttotal: 42.5s\tremaining: 26.1s\n",
      "3200:\tlearn: 0.0045753\ttest: 0.0087664\tbest: 0.0087664 (3200)\ttotal: 43.9s\tremaining: 24.7s\n",
      "3300:\tlearn: 0.0045034\ttest: 0.0087568\tbest: 0.0087568 (3300)\ttotal: 45.3s\tremaining: 23.3s\n",
      "3400:\tlearn: 0.0044337\ttest: 0.0087480\tbest: 0.0087480 (3400)\ttotal: 46.6s\tremaining: 21.9s\n",
      "3500:\tlearn: 0.0043582\ttest: 0.0087376\tbest: 0.0087376 (3500)\ttotal: 48.1s\tremaining: 20.6s\n",
      "3600:\tlearn: 0.0042880\ttest: 0.0087306\tbest: 0.0087305 (3596)\ttotal: 49.4s\tremaining: 19.2s\n",
      "3700:\tlearn: 0.0042242\ttest: 0.0087264\tbest: 0.0087263 (3694)\ttotal: 50.8s\tremaining: 17.8s\n",
      "3800:\tlearn: 0.0041588\ttest: 0.0087203\tbest: 0.0087201 (3789)\ttotal: 52.1s\tremaining: 16.4s\n",
      "3900:\tlearn: 0.0040966\ttest: 0.0087144\tbest: 0.0087142 (3898)\ttotal: 53.5s\tremaining: 15.1s\n",
      "4000:\tlearn: 0.0040377\ttest: 0.0087071\tbest: 0.0087071 (4000)\ttotal: 54.8s\tremaining: 13.7s\n",
      "4100:\tlearn: 0.0039791\ttest: 0.0087020\tbest: 0.0087020 (4100)\ttotal: 56.2s\tremaining: 12.3s\n",
      "4200:\tlearn: 0.0039267\ttest: 0.0086980\tbest: 0.0086979 (4196)\ttotal: 57.5s\tremaining: 10.9s\n",
      "4300:\tlearn: 0.0038759\ttest: 0.0086953\tbest: 0.0086948 (4280)\ttotal: 58.9s\tremaining: 9.57s\n",
      "4400:\tlearn: 0.0038263\ttest: 0.0086914\tbest: 0.0086914 (4400)\ttotal: 1m\tremaining: 8.2s\n",
      "4500:\tlearn: 0.0037730\ttest: 0.0086890\tbest: 0.0086890 (4500)\ttotal: 1m 1s\tremaining: 6.83s\n",
      "4600:\tlearn: 0.0037239\ttest: 0.0086877\tbest: 0.0086876 (4596)\ttotal: 1m 2s\tremaining: 5.46s\n",
      "4700:\tlearn: 0.0036766\ttest: 0.0086873\tbest: 0.0086866 (4688)\ttotal: 1m 4s\tremaining: 4.09s\n",
      "4800:\tlearn: 0.0036313\ttest: 0.0086851\tbest: 0.0086844 (4782)\ttotal: 1m 5s\tremaining: 2.72s\n",
      "4900:\tlearn: 0.0035859\ttest: 0.0086831\tbest: 0.0086826 (4871)\ttotal: 1m 6s\tremaining: 1.35s\n",
      "4999:\tlearn: 0.0035413\ttest: 0.0086799\tbest: 0.0086798 (4998)\ttotal: 1m 8s\tremaining: 0us\n",
      "\n",
      "bestTest = 0.008679833341\n",
      "bestIteration = 4998\n",
      "\n",
      "Shrink model to first 4999 iterations.\n"
     ]
    },
    {
     "data": {
      "text/plain": [
       "<catboost.core.CatBoostRegressor at 0x21c839bd730>"
      ]
     },
     "execution_count": 133,
     "metadata": {},
     "output_type": "execute_result"
    }
   ],
   "source": [
    "# Попробуем другой подход\n",
    "\n",
    "cbr_model = CatBoostRegressor(iterations = 5000,\n",
    "                          depth=10,\n",
    "                          #learning_rate = 0.5,\n",
    "                          random_seed = RANDOM_SEED,\n",
    "                          eval_metric='MAPE',\n",
    "                          custom_metric=['RMSE', 'MAE'],\n",
    "                          od_wait=500,\n",
    "                          )\n",
    "cbr_model.fit(X_train, y_train,\n",
    "         eval_set=(X_test, y_test),\n",
    "         verbose_eval=100,\n",
    "         use_best_model=True,\n",
    "         )"
   ]
  },
  {
   "cell_type": "code",
   "execution_count": 134,
   "metadata": {},
   "outputs": [
    {
     "name": "stdout",
     "output_type": "stream",
     "text": [
      "MSE :  0.035871029042147624 MAE :  0.11648560908378201 MAPE :  0.008589312123262355\n",
      "==============================\n",
      "0.9444206926262573\n"
     ]
    }
   ],
   "source": [
    "y_pred = cbr_model.predict(X_test)\n",
    "\n",
    "print('MSE : ', mse(y_pred, y_test), 'MAE : ', mae(y_pred, y_test), 'MAPE : ', mape(y_pred, y_test))\n",
    "print('='*30)\n",
    "print(r2_score(y_pred, y_test))"
   ]
  },
  {
   "cell_type": "code",
   "execution_count": 135,
   "metadata": {},
   "outputs": [
    {
     "data": {
      "text/plain": [
       "array([1701000., 2065000., 1411000., ...,  588000.,  969000., 1254000.])"
      ]
     },
     "execution_count": 135,
     "metadata": {},
     "output_type": "execute_result"
    }
   ],
   "source": [
    "y_valid = cbr_model.predict(X_valid)\n",
    "y_valid = np.round(np.exp(y_valid)/1000)*1000\n",
    "y_valid"
   ]
  },
  {
   "cell_type": "code",
   "execution_count": 136,
   "metadata": {},
   "outputs": [],
   "source": [
    "submission = pd.DataFrame()\n",
    "submission['Price'] = y_valid\n",
    "submission['id'] = submission.index\n",
    "submission = submission.reindex(columns=['id', 'Price'])\n",
    "submission.to_csv(r'cbr_submission.csv', index=False)"
   ]
  },
  {
   "cell_type": "code",
   "execution_count": 139,
   "metadata": {},
   "outputs": [
    {
     "data": {
      "application/vnd.jupyter.widget-view+json": {
       "model_id": "8437c2f8cb854447912f2f11f029c365",
       "version_major": 2,
       "version_minor": 0
      },
      "text/plain": [
       "HBox(children=(HTML(value=''), FloatProgress(value=0.0, max=3.0), HTML(value='')))"
      ]
     },
     "metadata": {},
     "output_type": "display_data"
    },
    {
     "name": "stdout",
     "output_type": "stream",
     "text": [
      "\n"
     ]
    }
   ],
   "source": [
    "models = [RandomForestRegressor(**params),\n",
    "         BaggingRegressor(ExtraTreeRegressor(random_state=RANDOM_SEED), random_state=RANDOM_SEED),\n",
    "         CatBoostRegressor(iterations = 5000,\n",
    "                          depth=10,\n",
    "                          #learning_rate = 0.5,\n",
    "                          eval_metric='MAPE',\n",
    "                          custom_metric=['RMSE', 'MAE'],\n",
    "                          od_wait=500,\n",
    "                          random_state=RANDOM_SEED, verbose=False)]\n",
    "\n",
    "def stacking_model_predict(models, X, y, X_sub, sample_submission):\n",
    "    for model_ in tqdm(models):\n",
    "        model_.fit(X, y)\n",
    "        pred_subm = model_.predict(X_sub)\n",
    "        \n",
    "        sample_submission[str(model_)[:6]] = pred_subm\n",
    "        sample_submission[str(model_)[:6]] = sample_submission[str(model_)[:6]].apply(lambda x: np.exp(x) )\n",
    "        sample_submission[str(model_)[:6]] = sample_submission[str(model_)[:6]].apply(lambda x: round(x/1000)*1000)\n",
    "    \n",
    "    sample_submission['price'] = sample_submission.iloc[:,2:].mean(axis=1)\n",
    "    sample_submission['price'] = sample_submission['price'].apply(lambda x: round(x/1000)*1000)\n",
    "    sample_submission[['id', 'price']].to_csv(f'staking_submission.csv', index=False)\n",
    "\n",
    "    return sample_submission[['id', 'price']]\n",
    "\n",
    "\n",
    "example = stacking_model_predict(models, X, y, X_valid, sample_submission)"
   ]
  },
  {
   "cell_type": "code",
   "execution_count": null,
   "metadata": {},
   "outputs": [],
   "source": []
  }
 ],
 "metadata": {
  "kernelspec": {
   "display_name": "Python 3.8.5 ('base')",
   "language": "python",
   "name": "python3"
  },
  "language_info": {
   "codemirror_mode": {
    "name": "ipython",
    "version": 3
   },
   "file_extension": ".py",
   "mimetype": "text/x-python",
   "name": "python",
   "nbconvert_exporter": "python",
   "pygments_lexer": "ipython3",
   "version": "3.8.5"
  },
  "vscode": {
   "interpreter": {
    "hash": "fae02bf42361ec6e6044ba7341963d60de9489e5a87b576413d7873c19252b9b"
   }
  }
 },
 "nbformat": 4,
 "nbformat_minor": 2
}
